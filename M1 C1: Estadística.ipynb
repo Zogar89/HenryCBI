{
  "cells": [
    {
      "cell_type": "markdown",
      "metadata": {
        "id": "view-in-github",
        "colab_type": "text"
      },
      "source": [
        "<a href=\"https://colab.research.google.com/github/Zogar89/HenryCBI/blob/main/M1%20C1%3A%20Estad%C3%ADstica.ipynb\" target=\"_parent\"><img src=\"https://colab.research.google.com/assets/colab-badge.svg\" alt=\"Open In Colab\"/></a>"
      ]
    },
    {
      "cell_type": "markdown",
      "metadata": {
        "id": "n0iaKJGbPgJQ"
      },
      "source": [
        "*texto en cursiva*## Homework"
      ]
    },
    {
      "cell_type": "code",
      "execution_count": 6,
      "metadata": {
        "id": "rcshLH9QPgJW"
      },
      "outputs": [],
      "source": [
        "import numpy as np"
      ]
    },
    {
      "cell_type": "markdown",
      "metadata": {
        "id": "koa_KGz4PgJX"
      },
      "source": [
        "1. Considera el siguiente arreglo que contiene la altura de un grupo de estudiantes de Henry y calcula:\n",
        "\n",
        "- Media\n",
        "- Mediana\n",
        "- Moda\n",
        "- Varianza\n",
        "- Desvío estándar"
      ]
    },
    {
      "cell_type": "code",
      "execution_count": 19,
      "metadata": {
        "id": "cU2qQXrjPgJY"
      },
      "outputs": [],
      "source": [
        "muestra = np.array( [[1.85, 1.8, 1.8 , 1.8],\n",
        "                    [1.73,  1.7, 1.75, 1.76],\n",
        "                    [ 1.65, 1.69,  1.67 ,  1.6],\n",
        "                    [1.54,  1.57, 1.58, 1.59],\n",
        "                    [ 1.4 , 1.42,  1.45, 1.48]])"
      ]
    },
    {
      "cell_type": "code",
      "execution_count": 21,
      "metadata": {
        "id": "vTV0PENXPgJa",
        "colab": {
          "base_uri": "https://localhost:8080/"
        },
        "outputId": "0870ba56-b733-44c4-d322-7f13c53cba24"
      },
      "outputs": [
        {
          "output_type": "stream",
          "name": "stdout",
          "text": [
            "[1.85, 1.8, 1.8, 1.8, 1.73, 1.7, 1.75, 1.76, 1.65, 1.69, 1.67, 1.6, 1.54, 1.57, 1.58, 1.59, 1.4, 1.42, 1.45, 1.48]\n"
          ]
        }
      ],
      "source": [
        "#Aplano la lista\n",
        "def aplanar (lista):\n",
        "    listaplana=[]\n",
        "    for item in lista:\n",
        "      for item2 in item:\n",
        "        listaplana.append(item2)\n",
        "    return listaplana\n",
        "\n",
        "listaplana=aplanar(muestra)\n",
        "\n",
        "print(listaplana)"
      ]
    },
    {
      "cell_type": "code",
      "source": [
        "#Media Cuento y divido 2\n",
        "\n",
        "def media(lista):\n",
        "  cantidad=len(lista)\n",
        "  suma = sum(lista)\n",
        "  return suma/cantidad\n",
        "\n",
        "print(media(listaplana))"
      ],
      "metadata": {
        "colab": {
          "base_uri": "https://localhost:8080/"
        },
        "id": "Ql3C8v6xfamI",
        "outputId": "ff202b26-31c5-4d87-ebd8-354471c9a6d6"
      },
      "execution_count": 24,
      "outputs": [
        {
          "output_type": "stream",
          "name": "stdout",
          "text": [
            "1.6415\n"
          ]
        }
      ]
    },
    {
      "cell_type": "code",
      "source": [
        "#Mediana Ordeno. Si es impar el del medio si es par calculo la diferencia\n",
        "def Mediana (lista):\n",
        "  lista.sort()\n",
        "  largolista = len(lista)\n",
        "  mitad= largolista//2\n",
        "  if es_par(largolista):\n",
        "    return lista[mitad]\n",
        "  else:\n",
        "    return lista[mitad]\n",
        "\n",
        "def es_par(n):\n",
        "    if n % 2 == 0:\n",
        "        return Tru\n",
        "    else:\n",
        "        return False\n",
        "\n",
        "print(Mediana(listaplana))"
      ],
      "metadata": {
        "colab": {
          "base_uri": "https://localhost:8080/"
        },
        "id": "fWSOBMRGiLbO",
        "outputId": "74af11ec-1194-45f4-f0b1-86a382f3f8d9"
      },
      "execution_count": 32,
      "outputs": [
        {
          "output_type": "stream",
          "name": "stdout",
          "text": [
            "1.67\n"
          ]
        }
      ]
    },
    {
      "cell_type": "markdown",
      "metadata": {
        "id": "l3z6phYEPgJb"
      },
      "source": [
        "2. Convierte el arreglo en una lista y realiza un histograma de 5 intervalos. ¿Tiene distribución normal?"
      ]
    },
    {
      "cell_type": "code",
      "execution_count": null,
      "metadata": {
        "id": "mqf63nzRPgJd"
      },
      "outputs": [],
      "source": []
    },
    {
      "cell_type": "markdown",
      "metadata": {
        "id": "k07ZAS2TPgJe"
      },
      "source": [
        "3. Utilizando pandas describe el dataframe."
      ]
    },
    {
      "cell_type": "code",
      "execution_count": null,
      "metadata": {
        "id": "_FktM7GFPgJe"
      },
      "outputs": [],
      "source": []
    },
    {
      "cell_type": "markdown",
      "metadata": {
        "id": "_h3QXxInPgJf"
      },
      "source": [
        "4. Con los siguientes datos construye un df y un array que permitan describir adecuadamente la muestra.<br>\n",
        "'Ingreso en miles' : 10.5\t6.8\t20.7\t18.2\t8.6\t25.8\t22.2\t5.9\t7.6\t11.8 <br>\n",
        "'Años de estudio': 17\t18\t21\t16\t16\t21\t16\t14\t18\t18<br>"
      ]
    },
    {
      "cell_type": "code",
      "execution_count": null,
      "metadata": {
        "id": "HbK6SrjvPgJf"
      },
      "outputs": [],
      "source": []
    },
    {
      "cell_type": "markdown",
      "metadata": {
        "id": "1FSsmyLePgJf"
      },
      "source": [
        "5. Realiza un histograma de 6 secciones para 'Ingreso en miles' y 'Años de estudio'."
      ]
    },
    {
      "cell_type": "code",
      "execution_count": null,
      "metadata": {
        "id": "Wnoi2dxIPgJg"
      },
      "outputs": [],
      "source": []
    },
    {
      "cell_type": "markdown",
      "metadata": {
        "id": "4LRfKx4fPgJg"
      },
      "source": [
        "6. Cálcula la media de 'Ingreso en miles' (df) utilizando pandas."
      ]
    },
    {
      "cell_type": "code",
      "execution_count": null,
      "metadata": {
        "id": "U6xSTlOIPgJg"
      },
      "outputs": [],
      "source": []
    },
    {
      "cell_type": "markdown",
      "metadata": {
        "id": "oMP8C7fUPgJg"
      },
      "source": [
        "7. Calcula la media de 'Ingreso en miles' (array) utilizando numpy."
      ]
    },
    {
      "cell_type": "code",
      "execution_count": null,
      "metadata": {
        "id": "cdZSrFBMPgJh"
      },
      "outputs": [],
      "source": []
    },
    {
      "cell_type": "markdown",
      "metadata": {
        "id": "kB9h1aI-PgJh"
      },
      "source": [
        "8. Agrega los siguientes valores extremos al df [ 50, 35 ], [ 120, 30 ]. ¿En cuánto varió la media? ¿Qué conclusiones obtienes de este resultado sobre la media?"
      ]
    },
    {
      "cell_type": "code",
      "execution_count": null,
      "metadata": {
        "id": "wRgLBtquPgJi"
      },
      "outputs": [],
      "source": []
    }
  ],
  "metadata": {
    "language_info": {
      "name": "python"
    },
    "orig_nbformat": 4,
    "colab": {
      "provenance": [],
      "include_colab_link": true
    },
    "kernelspec": {
      "name": "python3",
      "display_name": "Python 3"
    }
  },
  "nbformat": 4,
  "nbformat_minor": 0
}